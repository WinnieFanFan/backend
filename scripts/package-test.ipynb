{
 "cells": [
  {
   "cell_type": "code",
   "execution_count": 5,
   "metadata": {},
   "outputs": [],
   "source": [
    "import pandas as pd\n",
    "import numpy as np\n",
    "import os\n",
    "from tqdm import tqdm\n",
    "import multiprocessing as mp "
   ]
  },
  {
   "cell_type": "markdown",
   "metadata": {},
   "source": [
    "# data loader"
   ]
  },
  {
   "cell_type": "code",
   "execution_count": 10,
   "metadata": {},
   "outputs": [],
   "source": [
    "# KD - news\n",
    "data_dir = \"/home/mengzhen/workspace/data/fmc_data\"\n",
    "df_news_train = pd.read_csv(data_dir + \"/fmc_train.csv\")\n",
    "df_news_test = pd.read_csv(data_dir + \"/fmc_test.csv\")\n",
    "\n",
    "y_train = pd.read_csv(data_dir + \"/y_train_new.csv\").values\n",
    "y_test = pd.read_csv(data_dir + \"/y_test_new.csv\").values\n",
    "labels = pd.read_csv(data_dir + \"/df_labels_news.csv\")"
   ]
  },
  {
   "cell_type": "code",
   "execution_count": 11,
   "metadata": {},
   "outputs": [
    {
     "name": "stdout",
     "output_type": "stream",
     "text": [
      "KD news train data num:  31306\n",
      "KD news test data num:  4104\n"
     ]
    }
   ],
   "source": [
    "print(\"KD news train data num: \",len(y_train))\n",
    "print(\"KD news test data num: \",len(y_test))"
   ]
  },
  {
   "cell_type": "code",
   "execution_count": null,
   "metadata": {},
   "outputs": [],
   "source": []
  },
  {
   "cell_type": "markdown",
   "metadata": {},
   "source": [
    "# "
   ]
  },
  {
   "cell_type": "code",
   "execution_count": null,
   "metadata": {},
   "outputs": [],
   "source": []
  }
 ],
 "metadata": {
  "kernelspec": {
   "display_name": "python3-tf-gpu",
   "language": "python",
   "name": "python3-tf-gpu"
  },
  "language_info": {
   "codemirror_mode": {
    "name": "ipython",
    "version": 3
   },
   "file_extension": ".py",
   "mimetype": "text/x-python",
   "name": "python",
   "nbconvert_exporter": "python",
   "pygments_lexer": "ipython3",
   "version": "3.6.6"
  }
 },
 "nbformat": 4,
 "nbformat_minor": 2
}
